{
 "cells": [
  {
   "cell_type": "markdown",
   "id": "e6c398a8-b3a2-4fdb-8dc2-d73ca57e0641",
   "metadata": {},
   "source": []
  },
  {
   "cell_type": "markdown",
   "id": "faaa7e2b-29a6-483d-8f83-e32facdc422d",
   "metadata": {},
   "source": [
    "Data Science Tools and Ecosystem"
   ]
  },
  {
   "cell_type": "markdown",
   "id": "77caadab-ca5b-4789-94ec-3d5dd65c500b",
   "metadata": {},
   "source": [
    "In this notebook, Data Science Tools and Ecosystem are summarized."
   ]
  },
  {
   "cell_type": "markdown",
   "id": "3569f7a3-5aff-4550-a10b-2cb4c43fb095",
   "metadata": {},
   "source": [
    "Some of the popular languages that Data Scientists use are:\n",
    "\n",
    "1. Python  \n",
    "2. R  \n",
    "3. SQL  \n",
    "4. Julia  \n",
    "5. Scala"
   ]
  },
  {
   "cell_type": "markdown",
   "id": "3bd816a3-e433-4a41-bf33-d69defa3838d",
   "metadata": {},
   "source": [
    "Some of the commonly used libraries used by Data Scientists include:\n",
    "\n",
    "1. Pandas  \n",
    "2. NumPy  \n",
    "3. Matplotlib  \n",
    "4. Scikit-learn  \n",
    "5. TensorFlow"
   ]
  },
  {
   "cell_type": "markdown",
   "id": "5b72fb3a-3d1d-4eda-b72f-fd339e55f623",
   "metadata": {},
   "source": [
    "| Data Science Tools |\n",
    "|--------------------|\n",
    "| Jupyter Notebook   |\n",
    "| RStudio            |\n",
    "| GitHub             |"
   ]
  },
  {
   "cell_type": "markdown",
   "id": "ce6d91d4-6bc4-4767-b807-0fc75bc959b5",
   "metadata": {},
   "source": [
    "### Below are a few examples of evaluating arithmetic expressions in Python"
   ]
  },
  {
   "cell_type": "code",
   "execution_count": 2,
   "id": "8c3af87d-e01f-4c20-9c9c-303578eea214",
   "metadata": {},
   "outputs": [
    {
     "data": {
      "text/plain": [
       "17"
      ]
     },
     "execution_count": 2,
     "metadata": {},
     "output_type": "execute_result"
    }
   ],
   "source": [
    "# This is a simple arithmetic expression to multiply then add integers\n",
    "(3 * 4) + 5"
   ]
  },
  {
   "cell_type": "code",
   "execution_count": 3,
   "id": "a042b01e-0975-4cc4-82cc-d2b3bd1f6c38",
   "metadata": {},
   "outputs": [
    {
     "data": {
      "text/plain": [
       "3.3333333333333335"
      ]
     },
     "execution_count": 3,
     "metadata": {},
     "output_type": "execute_result"
    }
   ],
   "source": [
    "# This will convert 200 minutes to hours by dividing by 60\n",
    "200 / 60"
   ]
  },
  {
   "cell_type": "markdown",
   "id": "413b70bd-7091-4d2e-a977-dcb185d939cf",
   "metadata": {},
   "source": [
    "**Objectives:**\n",
    "- List popular languages for Data Science  \n",
    "- List commonly used libraries in Data Science  \n",
    "- Create tables and lists in Markdown  \n",
    "- Perform basic arithmetic expressions in Python  \n",
    "- Convert units using Python"
   ]
  },
  {
   "cell_type": "markdown",
   "id": "4c9302ff-5808-4564-a879-2345e7ed7340",
   "metadata": {},
   "source": [
    "## Author\n",
    "Gagan"
   ]
  },
  {
   "cell_type": "code",
   "execution_count": null,
   "id": "3ac1e7f4-7f0a-489d-ac84-4fa11abbd18d",
   "metadata": {},
   "outputs": [],
   "source": []
  }
 ],
 "metadata": {
  "kernelspec": {
   "display_name": "Python 3 (ipykernel)",
   "language": "python",
   "name": "python3"
  },
  "language_info": {
   "codemirror_mode": {
    "name": "ipython",
    "version": 3
   },
   "file_extension": ".py",
   "mimetype": "text/x-python",
   "name": "python",
   "nbconvert_exporter": "python",
   "pygments_lexer": "ipython3",
   "version": "3.12.8"
  }
 },
 "nbformat": 4,
 "nbformat_minor": 5
}
